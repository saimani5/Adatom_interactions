{
 "cells": [
  {
   "cell_type": "code",
   "execution_count": 6,
   "metadata": {},
   "outputs": [],
   "source": [
    "import numpy as np\n",
    "import matplotlib.pyplot as plt\n",
    "from ising_tri_2 import IsingSim_2\n",
    "from joblib import Parallel, delayed\n",
    "np.random.seed(0)\n",
    "\n",
    "target_hist = np.load('histogram_surface_atoms.npy')\n",
    "\n",
    "\n",
    "target_hist_mod = rot_inv_hist(hist = target_hist, array  = rot_array)\n",
    "\n",
    "def stat_dist(hist_1, hist_2):\n",
    "    s = (np.dot(np.sqrt(hist_1),np.sqrt(hist_2)))\n",
    "    a = (1-s)  # Cause we are finding the global maximum using GP\n",
    "    return a"
   ]
  },
  {
   "cell_type": "code",
   "execution_count": 7,
   "metadata": {},
   "outputs": [],
   "source": [
    "from GPim.Gpim import gprutils as utils\n",
    "from GPim.Gpim.gpreg.gpr import reconstructor\n",
    "from GPim.Gpim.gpreg.skgpr import skreconstructor\n",
    "from GPim.Gpim.gpreg.vgpr import vreconstructor\n",
    "from GPim.Gpim.gpbayes.boptim import boptimizer"
   ]
  },
  {
   "cell_type": "code",
   "execution_count": 8,
   "metadata": {},
   "outputs": [],
   "source": [
    "def J2_to_S_func2(indices):\n",
    "    st = np.zeros(len(indices))\n",
    "    J_mat = np.zeros([len(st),3,5])\n",
    "    for i,idx in enumerate(indices):\n",
    "      Jci, Jsi, Jdi = idx[0],idx[1],idx[2]\n",
    "\n",
    "      Jc = 0.1*Jci - 3\n",
    "      Js = 0.1*Jsi - 3\n",
    "      Jd = 0.1*Jdi - 3\n",
    "\n",
    "      J_mat[i] = np.array([[0,Js,0,Jd,0],\n",
    "                          [Jc,0,0,0,Jc],\n",
    "                          [0,Jd,0,Js,0]])\n",
    "    \n",
    "    histogram = Parallel(n_jobs=-1)(delayed(perform)(J) for J in J_mat)\n",
    "    for i,hist in enumerate(histogram):\n",
    "#         hist_mod = rot_inv_hist(hist = hist, array  = rot_array)\n",
    "        st[i] = stat_dist(target_hist, hist).astype(float)\n",
    "    return st\n",
    "\n",
    "def perform(Jmat):\n",
    "    ising_model =  IsingSim_2(N = 30, J_mat = Jmat, save_trajectories=True, T = 0.8, eqSteps =  750, mcSteps = 750, prop = 0.19)\n",
    "    ising_model.performIsingSim()\n",
    "    results = ising_model.results\n",
    "    histogram = results['Histogram']\n",
    "    \n",
    "    return histogram"
   ]
  },
  {
   "cell_type": "code",
   "execution_count": 9,
   "metadata": {},
   "outputs": [
    {
     "name": "stdout",
     "output_type": "stream",
     "text": [
      "[0.37030109 0.36866415 0.41166351 0.23468656 0.2456374 ]\n"
     ]
    }
   ],
   "source": [
    "size_Jc, size_Js, size_Jd = 60, 60, 60\n",
    "Z_sparse = np.ones((size_Jc, size_Js, size_Jd))*np.nan\n",
    "\n",
    "idx = np.random.randint(0, Z_sparse.shape[0], size=(5, 5))\n",
    "\n",
    "seeds = []\n",
    "for i in range(5):\n",
    "  seeds.append(np.array((idx[0,i], idx[1,i], idx[2,i])).T) \n",
    "\n",
    "A = J2_to_S_func2(seeds)\n",
    "\n",
    "print(A)\n",
    "for i, seed in enumerate(seeds):\n",
    "    Z_sparse[tuple(seed)] = A[i]\n",
    "\n",
    "# plt.figure(figsize=(6, 6))\n",
    "# plt.imshow(Z_sparse[:,:])\n",
    "# plt.suptitle('Seed points')"
   ]
  },
  {
   "cell_type": "code",
   "execution_count": 10,
   "metadata": {},
   "outputs": [],
   "source": [
    "import random\n",
    "\n",
    "def acq(gpmodel, X_full, X_sparse):  # leave it as is\n",
    "    mean, sd = gpmodel.predict(X_full, verbose=0) # leave it as is\n",
    "    acq = 0*mean + 1 * sd\n",
    "    return acq, (mean, sd)  # leave it as is\n",
    "\n",
    "def acq0(gpmodel, X_full, X_sparse):  # leave it as is\n",
    "    mean, sd = gpmodel.predict(X_full, verbose=0) # leave it as is\n",
    "    random_bit = random.getrandbits(1)\n",
    "    random_boolean = bool(random_bit)\n",
    "    if random_boolean:\n",
    "      acq = -1.0 * mean + 1.0 * sd\n",
    "    else:\n",
    "      acq = 0 * mean + 1.0 * sd\n",
    "    return acq, (mean, sd)  # leave it as is\n",
    "\n",
    "def acq1(gpmodel, X_full, X_sparse):  # leave it as is\n",
    "    mean, sd = gpmodel.predict(X_full, verbose=0) # leave it as is\n",
    "    acq = np.exp(-(mean-1)**2)\n",
    "    return acq, (mean, sd)  # leave it as is\n",
    "\n",
    "def acq2(gpmodel, X_full, X_sparse):  # leave it as is\n",
    "    mean, sd = gpmodel.predict(X_full, verbose=0) # leave it as is\n",
    "    random_bit = np.random.rand()\n",
    "    \n",
    "    if random_bit < 0.60:\n",
    "      acq = np.exp(-5*(mean-0)**2)\n",
    "    else:\n",
    "      acq = sd\n",
    "    return acq, (mean, sd)  # leave it as is"
   ]
  },
  {
   "cell_type": "code",
   "execution_count": null,
   "metadata": {},
   "outputs": [
    {
     "name": "stdout",
     "output_type": "stream",
     "text": [
      "\n",
      "Exploration step 1 / 100\n",
      "Model training...\n",
      "average time per iteration: 0.0393 s\n",
      "training completed in 37.35 s\n",
      "Final parameter values:\n",
      " amp: 0.0559, lengthscale: [29.997  29.9841 29.9983], noise: 2.28e-05\n",
      "Computing acquisition function...\n",
      "indices\n",
      "[[0, 59, 59], [0, 57, 59], [0, 58, 58], [1, 58, 59], [0, 59, 57], [1, 59, 58], [2, 59, 59], [0, 55, 59], [0, 56, 58], [1, 56, 59]]\n"
     ]
    }
   ],
   "source": [
    "# Get full and sparse grids\n",
    "X_full = utils.get_full_grid(Z_sparse)\n",
    "X_sparse= utils.get_sparse_grid(Z_sparse)\n",
    "# Initialize Bayesian optimizer with a custom acquisition function\n",
    "boptim = boptimizer(\n",
    "    X_sparse, Z_sparse, X_full, \n",
    "    J2_to_S_func2, acquisition_function=acq2,  # added custom acquisition function\n",
    "    exploration_steps = 100, batch_update = True, batch_size = 20,\n",
    "    dscale = 1,  # added distance-based criteria for point selection\n",
    "    use_gpu = False, verbose=1)\n",
    "# Run Bayesian optimization\n",
    "boptim.run()"
   ]
  },
  {
   "cell_type": "code",
   "execution_count": 12,
   "metadata": {},
   "outputs": [],
   "source": [
    "vals_all = np.array(boptim.vals_all)\n",
    "func_val, gp_pred = boptim.target_func_vals, boptim.gp_predictions\n",
    "inds_all = np.array(boptim.indices_all)"
   ]
  },
  {
   "cell_type": "code",
   "execution_count": 13,
   "metadata": {},
   "outputs": [],
   "source": [
    "results_3d = {}\n",
    "results_3d['gp_pred'] = gp_pred\n",
    "results_3d['func_val'] = func_val\n",
    "results_3d['inds_all'] = inds_all\n",
    "results_3d['vals_all'] = vals_all"
   ]
  },
  {
   "cell_type": "code",
   "execution_count": null,
   "metadata": {},
   "outputs": [],
   "source": [
    "import pickle\n",
    "pickle.dump( results_3d, open( \"results_3d.p\", \"wb\" ) )"
   ]
  }
 ],
 "metadata": {
  "kernelspec": {
   "display_name": "Python 3",
   "language": "python",
   "name": "python3"
  },
  "language_info": {
   "codemirror_mode": {
    "name": "ipython",
    "version": 3
   },
   "file_extension": ".py",
   "mimetype": "text/x-python",
   "name": "python",
   "nbconvert_exporter": "python",
   "pygments_lexer": "ipython3",
   "version": "3.6.5"
  }
 },
 "nbformat": 4,
 "nbformat_minor": 2
}

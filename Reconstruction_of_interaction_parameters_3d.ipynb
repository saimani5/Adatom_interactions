{
 "cells": [
  {
   "cell_type": "code",
   "execution_count": 1,
   "metadata": {},
   "outputs": [],
   "source": [
    "import numpy as np\n",
    "import matplotlib.pyplot as plt\n",
    "from ising_tri_2 import IsingSim_2\n",
    "from joblib import Parallel, delayed\n",
    "np.random.seed(0)\n",
    "\n",
    "target_hist = np.load('histogram_surface_atoms.npy')\n",
    "\n",
    "\n",
    "def stat_dist(hist_1, hist_2):\n",
    "    s = (np.dot(np.sqrt(hist_1),np.sqrt(hist_2)))\n",
    "    a = (1-s)  # Cause we are finding the global maximum using GP\n",
    "    return a"
   ]
  },
  {
   "cell_type": "code",
   "execution_count": 2,
   "metadata": {},
   "outputs": [
    {
     "name": "stdout",
     "output_type": "stream",
     "text": [
      "Requirement already satisfied: gpim==0.3.2 in c:\\users\\nisha\\anaconda3\\lib\\site-packages (0.3.2)\n",
      "Requirement already satisfied: numpy>=1.16.5 in c:\\users\\nisha\\anaconda3\\lib\\site-packages (from gpim==0.3.2) (1.20.1)\n",
      "Requirement already satisfied: scikit-image==0.16.2 in c:\\users\\nisha\\anaconda3\\lib\\site-packages (from gpim==0.3.2) (0.16.2)\n",
      "Requirement already satisfied: pyro-ppl>=0.4.1 in c:\\users\\nisha\\anaconda3\\lib\\site-packages\\pyro_ppl-1.6.0-py3.8.egg (from gpim==0.3.2) (1.6.0)\n",
      "Requirement already satisfied: matplotlib>=3.1.1 in c:\\users\\nisha\\anaconda3\\lib\\site-packages (from gpim==0.3.2) (3.3.4)\n",
      "Requirement already satisfied: torch>=1.3.1 in c:\\users\\nisha\\anaconda3\\lib\\site-packages\\torch-1.8.1-py3.8-win-amd64.egg (from gpim==0.3.2) (1.8.1)\n",
      "Requirement already satisfied: gpytorch<1.1.1,>=0.3.6 in c:\\users\\nisha\\anaconda3\\lib\\site-packages (from gpim==0.3.2) (1.1.0)\n",
      "Requirement already satisfied: imageio>=2.3.0 in c:\\users\\nisha\\anaconda3\\lib\\site-packages (from scikit-image==0.16.2->gpim==0.3.2) (2.9.0)\n",
      "Requirement already satisfied: networkx>=2.0 in c:\\users\\nisha\\anaconda3\\lib\\site-packages (from scikit-image==0.16.2->gpim==0.3.2) (2.5)\n",
      "Requirement already satisfied: pillow>=4.3.0 in c:\\users\\nisha\\anaconda3\\lib\\site-packages (from scikit-image==0.16.2->gpim==0.3.2) (8.2.0)\n",
      "Requirement already satisfied: scipy>=0.19.0 in c:\\users\\nisha\\anaconda3\\lib\\site-packages (from scikit-image==0.16.2->gpim==0.3.2) (1.6.2)\n",
      "Requirement already satisfied: PyWavelets>=0.4.0 in c:\\users\\nisha\\anaconda3\\lib\\site-packages (from scikit-image==0.16.2->gpim==0.3.2) (1.1.1)\n",
      "Requirement already satisfied: kiwisolver>=1.0.1 in c:\\users\\nisha\\anaconda3\\lib\\site-packages (from matplotlib>=3.1.1->gpim==0.3.2) (1.3.1)\n",
      "Requirement already satisfied: python-dateutil>=2.1 in c:\\users\\nisha\\anaconda3\\lib\\site-packages (from matplotlib>=3.1.1->gpim==0.3.2) (2.8.1)\n",
      "Requirement already satisfied: cycler>=0.10 in c:\\users\\nisha\\anaconda3\\lib\\site-packages (from matplotlib>=3.1.1->gpim==0.3.2) (0.10.0)\n",
      "Requirement already satisfied: pyparsing!=2.0.4,!=2.1.2,!=2.1.6,>=2.0.3 in c:\\users\\nisha\\anaconda3\\lib\\site-packages (from matplotlib>=3.1.1->gpim==0.3.2) (2.4.7)\n",
      "Requirement already satisfied: six in c:\\users\\nisha\\anaconda3\\lib\\site-packages (from cycler>=0.10->matplotlib>=3.1.1->gpim==0.3.2) (1.15.0)\n",
      "Requirement already satisfied: decorator>=4.3.0 in c:\\users\\nisha\\anaconda3\\lib\\site-packages (from networkx>=2.0->scikit-image==0.16.2->gpim==0.3.2) (5.0.6)\n",
      "Requirement already satisfied: opt-einsum>=2.3.2 in c:\\users\\nisha\\anaconda3\\lib\\site-packages\\opt_einsum-3.3.0-py3.8.egg (from pyro-ppl>=0.4.1->gpim==0.3.2) (3.3.0)\n",
      "Requirement already satisfied: pyro-api>=0.1.1 in c:\\users\\nisha\\anaconda3\\lib\\site-packages\\pyro_api-0.1.2-py3.8.egg (from pyro-ppl>=0.4.1->gpim==0.3.2) (0.1.2)\n",
      "Requirement already satisfied: tqdm>=4.36 in c:\\users\\nisha\\anaconda3\\lib\\site-packages (from pyro-ppl>=0.4.1->gpim==0.3.2) (4.59.0)\n",
      "Requirement already satisfied: typing-extensions in c:\\users\\nisha\\anaconda3\\lib\\site-packages (from torch>=1.3.1->gpim==0.3.2) (3.7.4.3)\n"
     ]
    }
   ],
   "source": [
    "!pip install gpim==0.3.2"
   ]
  },
  {
   "cell_type": "markdown",
   "metadata": {},
   "source": [
    "Here, We clone the GPim repository from https://hithub.com/saimani5/GPim  \n",
    "And and the path to GPim folder using sys.path.append like shown below\n"
   ]
  },
  {
   "cell_type": "code",
   "execution_count": 3,
   "metadata": {},
   "outputs": [],
   "source": [
    "import sys\n",
    "sys.path.append(r'C:\\Users\\abc\\Downloads')  # Here the GPim repository is cloned in the Downloads folder"
   ]
  },
  {
   "cell_type": "markdown",
   "metadata": {},
   "source": [
    "One can use the 0.3.2 version of gpim directly but the following files will parallelize the code   \n",
    "by combining gpim's batch update with the joblib library"
   ]
  },
  {
   "cell_type": "code",
   "execution_count": 4,
   "metadata": {},
   "outputs": [],
   "source": [
    "from GPim.Gpim import gprutils as utils\n",
    "from GPim.Gpim.gpreg.gpr import reconstructor\n",
    "from GPim.Gpim.gpreg.skgpr import skreconstructor\n",
    "from GPim.Gpim.gpreg.vgpr import vreconstructor\n",
    "from GPim.Gpim.gpbayes.boptim import boptimizer"
   ]
  },
  {
   "cell_type": "code",
   "execution_count": 8,
   "metadata": {},
   "outputs": [],
   "source": [
    "def J2_to_S_func2(indices):\n",
    "    st = np.zeros(len(indices))\n",
    "    J_mat = np.zeros([len(st),3,5])\n",
    "    for i,idx in enumerate(indices):\n",
    "      Jci, Jsi, Jdi = idx[0],idx[1],idx[2]\n",
    "\n",
    "      Jc = 0.1*Jci - 3\n",
    "      Js = 0.1*Jsi - 3\n",
    "      Jd = 0.1*Jdi - 3\n",
    "\n",
    "      J_mat[i] = np.array([[0,Js,0,Jd,0],\n",
    "                          [Jc,0,0,0,Jc],\n",
    "                          [0,Jd,0,Js,0]])\n",
    "    \n",
    "    histogram = Parallel(n_jobs=-1)(delayed(perform)(J) for J in J_mat)\n",
    "    for i,hist in enumerate(histogram):\n",
    "#         hist_mod = rot_inv_hist(hist = hist, array  = rot_array)\n",
    "        st[i] = stat_dist(target_hist, hist).astype(float)\n",
    "    return st\n",
    "\n",
    "def perform(Jmat):\n",
    "    ising_model =  IsingSim_2(N = 30, J_mat = Jmat, save_trajectories=True, T = 0.8, eqSteps =  750, mcSteps = 750, prop = 0.19)\n",
    "    ising_model.performIsingSim()\n",
    "    results = ising_model.results\n",
    "    histogram = results['Histogram']\n",
    "    \n",
    "    return histogram"
   ]
  },
  {
   "cell_type": "code",
   "execution_count": 9,
   "metadata": {},
   "outputs": [
    {
     "name": "stdout",
     "output_type": "stream",
     "text": [
      "[0.37030109 0.36866415 0.41166351 0.23468656 0.2456374 ]\n"
     ]
    }
   ],
   "source": [
    "size_Jc, size_Js, size_Jd = 60, 60, 60\n",
    "Z_sparse = np.ones((size_Jc, size_Js, size_Jd))*np.nan\n",
    "\n",
    "idx = np.random.randint(0, Z_sparse.shape[0], size=(5, 5))\n",
    "\n",
    "seeds = []\n",
    "for i in range(5):\n",
    "  seeds.append(np.array((idx[0,i], idx[1,i], idx[2,i])).T) \n",
    "\n",
    "A = J2_to_S_func2(seeds)\n",
    "\n",
    "print(A)\n",
    "for i, seed in enumerate(seeds):\n",
    "    Z_sparse[tuple(seed)] = A[i]\n",
    "\n",
    "# plt.figure(figsize=(6, 6))\n",
    "# plt.imshow(Z_sparse[:,:])\n",
    "# plt.suptitle('Seed points')"
   ]
  },
  {
   "cell_type": "code",
   "execution_count": 10,
   "metadata": {},
   "outputs": [],
   "source": [
    "import random\n",
    "\n",
    "def acq(gpmodel, X_full, X_sparse):  # leave it as is\n",
    "    mean, sd = gpmodel.predict(X_full, verbose=0) # leave it as is\n",
    "    acq = 0*mean + 1 * sd\n",
    "    return acq, (mean, sd)  # leave it as is\n",
    "\n",
    "def acq0(gpmodel, X_full, X_sparse):  # leave it as is\n",
    "    mean, sd = gpmodel.predict(X_full, verbose=0) # leave it as is\n",
    "    random_bit = random.getrandbits(1)\n",
    "    random_boolean = bool(random_bit)\n",
    "    if random_boolean:\n",
    "      acq = -1.0 * mean + 1.0 * sd\n",
    "    else:\n",
    "      acq = 0 * mean + 1.0 * sd\n",
    "    return acq, (mean, sd)  # leave it as is\n",
    "\n",
    "def acq1(gpmodel, X_full, X_sparse):  # leave it as is\n",
    "    mean, sd = gpmodel.predict(X_full, verbose=0) # leave it as is\n",
    "    acq = np.exp(-(mean-1)**2)\n",
    "    return acq, (mean, sd)  # leave it as is\n",
    "\n",
    "def acq2(gpmodel, X_full, X_sparse):  # leave it as is\n",
    "    mean, sd = gpmodel.predict(X_full, verbose=0) # leave it as is\n",
    "    random_bit = np.random.rand()\n",
    "    \n",
    "    if random_bit < 0.60:\n",
    "      acq = np.exp(-5*(mean-0)**2)\n",
    "    else:\n",
    "      acq = sd\n",
    "    return acq, (mean, sd)  # leave it as is"
   ]
  },
  {
   "cell_type": "code",
   "execution_count": null,
   "metadata": {},
   "outputs": [
    {
     "name": "stdout",
     "output_type": "stream",
     "text": [
      "\n",
      "Exploration step 1 / 100\n",
      "Model training...\n",
      "average time per iteration: 0.0393 s\n",
      "training completed in 37.35 s\n",
      "Final parameter values:\n",
      " amp: 0.0559, lengthscale: [29.997  29.9841 29.9983], noise: 2.28e-05\n",
      "Computing acquisition function...\n",
      "indices\n",
      "[[0, 59, 59], [0, 57, 59], [0, 58, 58], [1, 58, 59], [0, 59, 57], [1, 59, 58], [2, 59, 59], [0, 55, 59], [0, 56, 58], [1, 56, 59]]\n"
     ]
    }
   ],
   "source": [
    "# Get full and sparse grids\n",
    "X_full = utils.get_full_grid(Z_sparse)\n",
    "X_sparse= utils.get_sparse_grid(Z_sparse)\n",
    "# Initialize Bayesian optimizer with a custom acquisition function\n",
    "boptim = boptimizer(\n",
    "    X_sparse, Z_sparse, X_full, \n",
    "    J2_to_S_func2, acquisition_function=acq2,  # added custom acquisition function\n",
    "    exploration_steps = 100, batch_update = True, batch_size = 20,\n",
    "    dscale = 1,  # added distance-based criteria for point selection\n",
    "    use_gpu = False, verbose=1)\n",
    "# Run Bayesian optimization\n",
    "boptim.run()"
   ]
  },
  {
   "cell_type": "code",
   "execution_count": 12,
   "metadata": {},
   "outputs": [],
   "source": [
    "vals_all = np.array(boptim.vals_all)\n",
    "func_val, gp_pred = boptim.target_func_vals, boptim.gp_predictions\n",
    "inds_all = np.array(boptim.indices_all)"
   ]
  },
  {
   "cell_type": "code",
   "execution_count": 13,
   "metadata": {},
   "outputs": [],
   "source": [
    "results_3d = {}\n",
    "results_3d['gp_pred'] = gp_pred\n",
    "results_3d['func_val'] = func_val\n",
    "results_3d['inds_all'] = inds_all\n",
    "results_3d['vals_all'] = vals_all"
   ]
  },
  {
   "cell_type": "code",
   "execution_count": null,
   "metadata": {},
   "outputs": [],
   "source": [
    "import pickle\n",
    "pickle.dump( results_3d, open( \"results_3d.p\", \"wb\" ) )"
   ]
  }
 ],
 "metadata": {
  "kernelspec": {
   "display_name": "Python 3",
   "language": "python",
   "name": "python3"
  },
  "language_info": {
   "codemirror_mode": {
    "name": "ipython",
    "version": 3
   },
   "file_extension": ".py",
   "mimetype": "text/x-python",
   "name": "python",
   "nbconvert_exporter": "python",
   "pygments_lexer": "ipython3",
   "version": "3.8.8"
  }
 },
 "nbformat": 4,
 "nbformat_minor": 2
}
